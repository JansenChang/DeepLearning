{
 "cells": [
  {
   "cell_type": "markdown",
   "source": [
    "## 感知机的实现\n",
    "### 简单的实现"
   ],
   "metadata": {
    "collapsed": false,
    "pycharm": {
     "name": "#%% md\n"
    }
   }
  },
  {
   "cell_type": "code",
   "execution_count": 50,
   "outputs": [
    {
     "name": "stdout",
     "output_type": "stream",
     "text": [
      "0\n",
      "0\n",
      "0\n",
      "1\n"
     ]
    }
   ],
   "source": [
    "def AND(x1,x2):\n",
    "    w1,w2,theta =0.5 ,0.5 ,0.7\n",
    "    tmp = x1 * w1 + x2 * w2\n",
    "    if tmp <= theta:\n",
    "        return 0\n",
    "    elif tmp > theta:\n",
    "        return 1\n",
    "\n",
    "print(AND(0,1))\n",
    "print(AND(1,0))\n",
    "print(AND(0,1))\n",
    "print(AND(1,1))"
   ],
   "metadata": {
    "collapsed": false,
    "pycharm": {
     "name": "#%%\n"
    }
   }
  },
  {
   "cell_type": "markdown",
   "source": [
    "### 导入权重和偏置\n",
    "将$\\theta$替换称$-b$\n",
    "$$\n",
    "y=\\begin{cases}\n",
    "\t\t0 \\,（$w_1x_1$+$w_2x_2$  \\, \\leq\\  $\\theta$ ）\\\\\n",
    "\t\t\\\\\n",
    "\t\t1  \\, （$w_1x_1$+$w_2x_2$ \\, > \\,$\\theta$ ）\n",
    "\\end{cases}\n",
    "$$\n",
    "修改为\n",
    "\n",
    "$$\n",
    "y=\\begin{cases}\n",
    "\t\t0 \\,（$b$+$w_1x_1$+$w_2x_2$  \\, \\leq\\  0 ）\\\\\n",
    "\t\t\\\\\n",
    "\t\t1  \\, （$b$+$w_1x_1$+$w_2x_2$ \\, > \\,0 ）\n",
    "\\end{cases}\n",
    "$$\n",
    "\n",
    "两个式子表达的内容是完全相同的。\n",
    "此处$b$为偏置，$w_1$和$w_2$为权重。\n",
    "感知机会计算输入信号和权重的乘积，然后加上偏置，如果大于0则输出1，小于等于0则输出0。\n",
    "以下使用NumPy实现感知机\n"
   ],
   "metadata": {
    "collapsed": false,
    "pycharm": {
     "name": "#%% md\n"
    }
   }
  },
  {
   "cell_type": "code",
   "execution_count": 51,
   "outputs": [
    {
     "data": {
      "text/plain": "-0.19999999999999996"
     },
     "execution_count": 51,
     "metadata": {},
     "output_type": "execute_result"
    }
   ],
   "source": [
    "import  numpy as np\n",
    "x = np.array([0,1])\n",
    "w = np.array([0.5,0.5])\n",
    "b = -0.7\n",
    "w * x #偏置乘以权重\n",
    "np.sum(w * x)\n",
    "np.sum(w * x) + b"
   ],
   "metadata": {
    "collapsed": false,
    "pycharm": {
     "name": "#%%\n"
    }
   }
  },
  {
   "cell_type": "code",
   "execution_count": 52,
   "outputs": [
    {
     "name": "stdout",
     "output_type": "stream",
     "text": [
      "1\n",
      "1\n",
      "1\n",
      "0\n"
     ]
    }
   ],
   "source": [
    "def NAND(x1,x2):\n",
    "    x = np.array([x1,x2]) # 信号\n",
    "    w = np.array([1,1]) # 权重\n",
    "    b = -0.5 #偏置\n",
    "    tmp = np.sum(w * x) + b\n",
    "    if tmp <=0:\n",
    "        return 0\n",
    "    else:\n",
    "        return 1\n",
    "print(NAND(1,1))\n",
    "print(NAND(1,0))\n",
    "print(NAND(0,1))\n",
    "print(NAND(0,0))\n"
   ],
   "metadata": {
    "collapsed": false,
    "pycharm": {
     "name": "#%%\n"
    }
   }
  },
  {
   "cell_type": "markdown",
   "source": [
    " $-\\theta$命名为偏置$b$，偏置和权重$w_1$,$w_2$的作用是不一致的\n",
    " $w_1$,$w_2$是控制输入信号的重要性的参数，而偏置是调整整个神经元被激活的容易程度（输出信号为1的程度）的参数"
   ],
   "metadata": {
    "collapsed": false,
    "pycharm": {
     "name": "#%% md\n"
    }
   }
  },
  {
   "cell_type": "markdown",
   "source": [
    "#### 与非门和或门"
   ],
   "metadata": {
    "collapsed": false,
    "pycharm": {
     "name": "#%% md\n"
    }
   }
  },
  {
   "cell_type": "code",
   "execution_count": 53,
   "outputs": [
    {
     "name": "stdout",
     "output_type": "stream",
     "text": [
      "0\n",
      "1\n",
      "1\n",
      "1\n"
     ]
    }
   ],
   "source": [
    "def NAND(x1,x2):\n",
    "    x = np.array([x1,x2]) # 信号\n",
    "    w = np.array([-0.5,-0.5]) # 权重\n",
    "    b = 0.7 #偏置\n",
    "    tmp = np.sum(w * x) + b\n",
    "    if tmp <=0:\n",
    "        return 0\n",
    "    else:\n",
    "        return 1\n",
    "print(NAND(1,1))\n",
    "print(NAND(1,0))\n",
    "print(NAND(0,1))\n",
    "print(NAND(0,0))\n"
   ],
   "metadata": {
    "collapsed": false,
    "pycharm": {
     "name": "#%%\n"
    }
   }
  },
  {
   "cell_type": "code",
   "execution_count": 54,
   "outputs": [
    {
     "name": "stdout",
     "output_type": "stream",
     "text": [
      "1\n",
      "1\n",
      "1\n",
      "0\n"
     ]
    }
   ],
   "source": [
    "def OR(x1,x2):\n",
    "    x = np.array([x1,x2]) # 信号\n",
    "    w = np.array([0.5,0.5]) # 权重\n",
    "    b = -0.2 #偏置\n",
    "    tmp = np.sum(w * x) + b\n",
    "    if tmp <=0:\n",
    "        return 0\n",
    "    else:\n",
    "        return 1\n",
    "print(OR(1,1))\n",
    "print(OR(1,0))\n",
    "print(OR(0,1))\n",
    "print(OR(0,0))\n"
   ],
   "metadata": {
    "collapsed": false,
    "pycharm": {
     "name": "#%%\n"
    }
   }
  },
  {
   "cell_type": "code",
   "execution_count": 54,
   "outputs": [],
   "source": [],
   "metadata": {
    "collapsed": false,
    "pycharm": {
     "name": "#%%\n"
    }
   }
  }
 ],
 "metadata": {
  "kernelspec": {
   "display_name": "Python 3",
   "language": "python",
   "name": "python3"
  },
  "language_info": {
   "codemirror_mode": {
    "name": "ipython",
    "version": 2
   },
   "file_extension": ".py",
   "mimetype": "text/x-python",
   "name": "python",
   "nbconvert_exporter": "python",
   "pygments_lexer": "ipython2",
   "version": "2.7.6"
  }
 },
 "nbformat": 4,
 "nbformat_minor": 0
}