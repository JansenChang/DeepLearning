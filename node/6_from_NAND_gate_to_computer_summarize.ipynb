{
 "cells": [
  {
   "cell_type": "markdown",
   "source": [
    "## 从与非门到计算机\n",
    "一般来讲计算机只使用了与非门的组合，就可以进行运算，但实际上也可以使用感知机表示计算机"
   ],
   "metadata": {
    "collapsed": false,
    "pycharm": {
     "name": "#%% md\n"
    }
   }
  },
  {
   "cell_type": "markdown",
   "source": [],
   "metadata": {
    "collapsed": false,
    "pycharm": {
     "name": "#%% md\n"
    }
   }
  },
  {
   "cell_type": "markdown",
   "source": [
    "## 总结\n",
    "- 感知机是具有输入和输出的算法，给定一个参数后将输出一个既定的值\n",
    "- 感知机将权重和偏置设定为参数\n",
    "- 使用感知机可以表示与门和或门等逻辑电路\n",
    "- 异或门无法通过单层感知机来表示。\n",
    "- 使用2层感知机可以表示异或门\n",
    "- 单层感知机只能表示线性空间，而多层感知机可以表示非线性空间\n",
    "- 多层感知机理论上可以表示计算机"
   ],
   "metadata": {
    "collapsed": false,
    "pycharm": {
     "name": "#%% md\n"
    }
   }
  }
 ],
 "metadata": {
  "kernelspec": {
   "display_name": "Python 3",
   "language": "python",
   "name": "python3"
  },
  "language_info": {
   "codemirror_mode": {
    "name": "ipython",
    "version": 2
   },
   "file_extension": ".py",
   "mimetype": "text/x-python",
   "name": "python",
   "nbconvert_exporter": "python",
   "pygments_lexer": "ipython2",
   "version": "2.7.6"
  }
 },
 "nbformat": 4,
 "nbformat_minor": 0
}