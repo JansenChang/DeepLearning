{
 "cells": [
  {
   "cell_type": "markdown",
   "source": [
    "## 多层感知机\n",
    "感知器无法表示异或门。但是可以通过叠加层来表示\n",
    "### 已有门电路的组合\n",
    "与门-两者输入1的时候输出1\n",
    "与非门-两者输入都不为1的时候输出1\n",
    "或门-只要输入有1的时候输出为1\n",
    "异或门-当两者只有一个输入为1的时候才输出1\n",
    "把与非门和或门的输出输入到与门中得到异或门的输出"
   ],
   "metadata": {
    "collapsed": false,
    "pycharm": {
     "name": "#%% md\n"
    }
   }
  },
  {
   "cell_type": "code",
   "execution_count": null,
   "outputs": [],
   "source": [
    "import numpy as  np\n",
    "\n",
    "def NAND(x1,x2):\n",
    "    x = np.array([x1,x2]) # 信号\n",
    "    w = np.array([-0.5,-0.5]) # 权重\n",
    "    b = 0.7 #偏置\n",
    "    tmp = np.sum(w * x) + b\n",
    "    if tmp <=0:\n",
    "        return 0\n",
    "    else:\n",
    "        return 1\n",
    "def OR(x1,x2):\n",
    "    x = np.array([x1,x2]) # 信号\n",
    "    w = np.array([0.5,0.5]) # 权重\n",
    "    b = -0.2 #偏置\n",
    "    tmp = np.sum(w * x) + b\n",
    "    if tmp <=0:\n",
    "        return 0\n",
    "    else:\n",
    "        return 1\n",
    "def AND(x1,x2):\n",
    "    w1,w2,theta =0.5 ,0.5 ,0.7\n",
    "    tmp = x1 * w1 + x2 * w2\n",
    "    if tmp <= theta:\n",
    "        return 0\n",
    "    elif tmp > theta:\n",
    "        return 1\n",
    "\n",
    "def XOR(x1,x2):\n",
    "    s1 = NAND(x1,x2)\n",
    "    s2 = OR(x1,x2)\n",
    "    y  = AND(s1,s2)\n",
    "    return y\n",
    "print(XOR(0,0))\n",
    "print(XOR(1,0))\n",
    "print(XOR(0,1))\n",
    "print(XOR(1,1))"
   ],
   "metadata": {
    "collapsed": false,
    "pycharm": {
     "name": "#%%\n"
    }
   }
  },
  {
   "cell_type": "markdown",
   "source": [
    "异或门是一种多层结构的神经网络。最左边的第一列称为0层，中间列称为1层，最右边的一列称为2层\n",
    "实际上，与门，非与门，或门是单层感知机，而异或门是2层感知机。\n",
    "叠加了多层的感知机称为多层感知机\n",
    "1. 第0层的两个神经元接收输入信号，并将信号发送至第一层神经元。\n",
    "2. 第1层的神经元将信号发送至第2层神经元，第2层神经元输出y\n",
    "\n",
    "通过叠加层，感知机能进行更加灵活的表示\n"
   ],
   "metadata": {
    "collapsed": false,
    "pycharm": {
     "name": "#%% md\n"
    }
   }
  },
  {
   "cell_type": "markdown",
   "source": [],
   "metadata": {
    "collapsed": false,
    "pycharm": {
     "name": "#%% md\n"
    }
   }
  }
 ],
 "metadata": {
  "kernelspec": {
   "display_name": "Python 3",
   "language": "python",
   "name": "python3"
  },
  "language_info": {
   "codemirror_mode": {
    "name": "ipython",
    "version": 2
   },
   "file_extension": ".py",
   "mimetype": "text/x-python",
   "name": "python",
   "nbconvert_exporter": "python",
   "pygments_lexer": "ipython2",
   "version": "2.7.6"
  }
 },
 "nbformat": 4,
 "nbformat_minor": 0
}