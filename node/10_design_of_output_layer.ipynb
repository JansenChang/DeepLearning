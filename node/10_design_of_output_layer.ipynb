{
 "cells": [
  {
   "cell_type": "markdown",
   "source": [
    "## 输出层的设计\n",
    "神经网络可以用在分类问题和回归问题，需要根据情况改变输出层的激活函数。\n",
    "回归问题用恒等函数，分类问题用softmax函数。\n",
    "\n",
    "**机器学习的问题大致氛围分类问题和逻辑回归问题。分类问题是数据属于哪一类的问题。如，区分图像中的人是男性还是女性的问题就是分类问题。而回归问题是根据某个输入预测一个（连续）的数字问题，比如根据一张图片预测一个人的体重问题就是回归问题**\n",
    "\n",
    "### 恒等函数和softmax函数\n",
    "恒等函数会将输入按照原样输出，对于输入的信息，不加任何改动的直接输出。\n",
    "因此输出层使用恒等函数时数据会被原封不动的输出。\n",
    "#### 恒等函数\n",
    "分类问题中使用softmax函数可以用下面的式子表示\n",
    "$$\n",
    "y_k =\\frac{exp(a_k)} {\\sum_{i=1}^n exp(a_i)}\n",
    "$$\n",
    "### softmax的实现"
   ],
   "metadata": {
    "collapsed": false,
    "pycharm": {
     "name": "#%% md\n"
    }
   }
  },
  {
   "cell_type": "code",
   "execution_count": 1,
   "outputs": [
    {
     "name": "stdout",
     "output_type": "stream",
     "text": [
      "[ 1.34985881 18.17414537 54.59815003]\n",
      "74.1221542101633\n",
      "[0.01821127 0.24519181 0.73659691]\n"
     ]
    }
   ],
   "source": [
    "import numpy as np\n",
    "\n",
    "a = np.array([0.3,2.9,4.0])\n",
    "exp_a=np.exp(a) #指数函数\n",
    "print(exp_a)\n",
    "sum_exp_a= np.sum(exp_a) #求和\n",
    "print(sum_exp_a)\n",
    "y = exp_a/sum_exp_a\n",
    "print(y)"
   ],
   "metadata": {
    "collapsed": false,
    "pycharm": {
     "name": "#%%\n"
    }
   }
  },
  {
   "cell_type": "markdown",
   "source": [
    "定义为python函数softmax()"
   ],
   "metadata": {
    "collapsed": false,
    "pycharm": {
     "name": "#%% md\n"
    }
   }
  },
  {
   "cell_type": "code",
   "execution_count": 2,
   "outputs": [],
   "source": [
    "def softmax(a):\n",
    "    exp_a = np.exp(a)\n",
    "    sum_exp_a= np.sum(exp_a)\n",
    "    y = exp_a/sum_exp_a\n",
    "    return y"
   ],
   "metadata": {
    "collapsed": false,
    "pycharm": {
     "name": "#%%\n"
    }
   }
  },
  {
   "cell_type": "markdown",
   "source": [
    "### 实现softmax时的注意事项\n",
    "因为使用指数函数，这个值会被变大。所以会出现溢出的情况\n",
    "以下改进softmax函数\n",
    "$$\n",
    "\\begin{aligned}\n",
    "y_k &=\\frac{exp(a_k)} {\\sum_{i=1}^n exp(a_i)}\\\\\n",
    "&= \\frac{C exp(a_k)} {\\sum_{i=1}^n C exp(a_i)}\\\\\n",
    "&= \\frac{exp(a_k+logC)} {\\sum_{i=1}^n exp(a_i+logC)}\\\\\n",
    "&= \\frac{exp(a_k+C^')} {\\sum_{i=1}^n exp(a_i+C^')}\n",
    "\\end{aligned}\n",
    "$$"
   ],
   "metadata": {
    "collapsed": false,
    "pycharm": {
     "name": "#%% md\n"
    }
   }
  },
  {
   "cell_type": "code",
   "execution_count": 3,
   "outputs": [
    {
     "name": "stdout",
     "output_type": "stream",
     "text": [
      "[0.01821127 0.24519181 0.73659691]\n",
      "1.0\n"
     ]
    }
   ],
   "source": [
    "def softmax(a):\n",
    "    c = np.max(a)\n",
    "    exp_a = np.exp(a-c) # 溢出策略\n",
    "    sum_exp_a= np.sum(exp_a)\n",
    "    y = exp_a/sum_exp_a\n",
    "    return y\n",
    "\n",
    "a = np.array([0.3,2.9,4.0])\n",
    "y=softmax(a)\n",
    "print(y)\n",
    "print(np.sum(y))"
   ],
   "metadata": {
    "collapsed": false,
    "pycharm": {
     "name": "#%%\n"
    }
   }
  },
  {
   "cell_type": "markdown",
   "source": [
    "### softmax函数的特征\n",
    "softmax函数的输出是0.0到1.0之间的实数。并且输出的总和为1是softmax函数的一个性质。\n",
    "把函数的输出概率解释为\"概率\"\n",
    "也就是说，通过使用softmax函数。\n",
    "即便使用了softmax函数，各个元素之间的大小关系也不会改变。因为指数函数是单调递增的函数。\n",
    "输入a元素的大小关系和输出y的大小关系也没有改变\n",
    "神经网络只是把最大的神经元所对应的类别作为识别结果。\n",
    "因此在神经网络进行分类时。输出层的softmax函数可以省略。\n",
    "在实际的问题中指数运算需要一定的运算量。因此输出层的softmax函数一般会被省略。\n",
    "- 求解机器学习问题的步骤可以分为\"学习\"和\"推理\"。首先在学习阶段进行模型的学习。然后再推理阶段，用学到的模型对位置的数据进行推理分类。\n",
    "- 推理阶段一般会省略输出层的softmax函数。在输出层使用softmax函数是因为softmax函数和神经网络的学习有关\n",
    "### 输出层的神经元数量\n",
    "输出层的神经元数量需要根据待解决的问题来决定。对于分类问题，输出层的神经元数量一般设定为类别的数量"
   ],
   "metadata": {
    "collapsed": false,
    "pycharm": {
     "name": "#%% md\n"
    }
   }
  }
 ],
 "metadata": {
  "kernelspec": {
   "display_name": "Python 3",
   "language": "python",
   "name": "python3"
  },
  "language_info": {
   "codemirror_mode": {
    "name": "ipython",
    "version": 2
   },
   "file_extension": ".py",
   "mimetype": "text/x-python",
   "name": "python",
   "nbconvert_exporter": "python",
   "pygments_lexer": "ipython2",
   "version": "2.7.6"
  }
 },
 "nbformat": 4,
 "nbformat_minor": 0
}