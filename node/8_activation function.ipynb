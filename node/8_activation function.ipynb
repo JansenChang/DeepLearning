{
 "cells": [
  {
   "cell_type": "markdown",
   "source": [
    "## 激活函数以阈值为界\n",
    "一旦输入超过阈值，就切换输出。这样的函数称为\"阶跃函数\"\n",
    "在激活函数的众多候选中，感知机使用了阶跃函数。\n",
    "### sigmoid函数\n",
    "神经网络中经常使用sigmoid函数（sigmoid function）。\n",
    "$$\n",
    "h(x)=\\frac{1}{1+exp(-x)}\n",
    "$$\n",
    "函数是给定某个输入后会返回否个输出的转换器。\n",
    "神经网络中用sigmoid函数作为激活函数，进行信号的转换，转换后的信号被传送给下一个神经元。\n",
    "### 阶跃函数的实现\n",
    "阶跃函数，当输入超过0时，输出1，否则输出0。\n",
    "可以使用如下实现"
   ],
   "metadata": {
    "collapsed": false,
    "pycharm": {
     "name": "#%% md\n"
    }
   }
  },
  {
   "cell_type": "code",
   "execution_count": 1,
   "outputs": [],
   "source": [
    "def step_function(x):\n",
    "    if x > 0:\n",
    "        return 1\n",
    "    else:\n",
    "        return 0\n"
   ],
   "metadata": {
    "collapsed": false,
    "pycharm": {
     "name": "#%%\n"
    }
   }
  },
  {
   "cell_type": "markdown",
   "source": [
    "但是参数只能接受实数。但不支持NumPy数组。所以修改实现"
   ],
   "metadata": {
    "collapsed": false,
    "pycharm": {
     "name": "#%% md\n"
    }
   }
  },
  {
   "cell_type": "code",
   "execution_count": 2,
   "outputs": [],
   "source": [
    "import numpy as np\n",
    "\n",
    "\n",
    "def step_function(x):\n",
    "    y = x > 0\n",
    "    return y.astype(np.int)"
   ],
   "metadata": {
    "collapsed": false,
    "pycharm": {
     "name": "#%%\n"
    }
   }
  },
  {
   "cell_type": "code",
   "execution_count": 3,
   "outputs": [
    {
     "data": {
      "text/plain": "array([0, 1, 1])"
     },
     "execution_count": 3,
     "metadata": {},
     "output_type": "execute_result"
    }
   ],
   "source": [
    "import numpy as np\n",
    "\n",
    "x = np.array([-1.0, 1.0, 2.0])\n",
    "x\n",
    "y = x > 0\n",
    "y = y.astype(int)\n",
    "y"
   ],
   "metadata": {
    "collapsed": false,
    "pycharm": {
     "name": "#%%\n"
    }
   }
  },
  {
   "cell_type": "markdown",
   "source": [
    "### 阶跃函数图形"
   ],
   "metadata": {
    "collapsed": false,
    "pycharm": {
     "name": "#%% md\n"
    }
   }
  },
  {
   "cell_type": "code",
   "execution_count": 4,
   "outputs": [
    {
     "data": {
      "text/plain": "<Figure size 432x288 with 1 Axes>",
      "image/png": "[encoded data removed]"
     },
     "metadata": {
      "needs_background": "light"
     },
     "output_type": "display_data"
    }
   ],
   "source": [
    "import numpy as np\n",
    "import matplotlib.pyplot as plt\n",
    "\n",
    "\n",
    "def step_function(x):\n",
    "    return np.array(x > 0, int)\n",
    "\n",
    "\n",
    "x = np.arange(-5.0, 5.0, 0.1)\n",
    "y = step_function(x)\n",
    "plt.plot(x, y)\n",
    "plt.ylim(-0.2, 1.2)  #指定y轴的范围\n",
    "plt.show()"
   ],
   "metadata": {
    "collapsed": false,
    "pycharm": {
     "name": "#%%\n"
    }
   }
  },
  {
   "cell_type": "markdown",
   "source": [
    "### sigmoid函数的图形"
   ],
   "metadata": {
    "collapsed": false,
    "pycharm": {
     "name": "#%% md\n"
    }
   }
  },
  {
   "cell_type": "code",
   "execution_count": 5,
   "outputs": [
    {
     "data": {
      "text/plain": "<Figure size 432x288 with 1 Axes>",
      "image/png": "[encoded data removed]"
     },
     "metadata": {
      "needs_background": "light"
     },
     "output_type": "display_data"
    }
   ],
   "source": [
    "import numpy as np\n",
    "import matplotlib.pyplot as plt\n",
    "\n",
    "\n",
    "def sigmoid(x):\n",
    "    return 1 / (1 + np.exp(-x))\n",
    "\n",
    "\n",
    "def step_function(x):\n",
    "    return np.array(x > 0, int)\n",
    "\n",
    "\n",
    "x = np.arange(-5.0, 5.0, 0.1)\n",
    "y = step_function(x)\n",
    "y2 = sigmoid(x)\n",
    "plt.xlabel(\"x\")\n",
    "plt.ylabel(\"y\")\n",
    "plt.plot(x, y, label=\"Step\")\n",
    "plt.plot(x, y2, linestyle=\"--\", label=\"Sigmoid\", color=\"red\")\n",
    "plt.title(\"Sigmoid&Step\")\n",
    "plt.ylim(-0.2, 1.2)\n",
    "plt.xlim(-6, 6)\n",
    "plt.legend()\n",
    "plt.show()"
   ],
   "metadata": {
    "collapsed": false,
    "pycharm": {
     "name": "#%%\n"
    }
   }
  },
  {
   "cell_type": "markdown",
   "source": [
    "### sigmoid函数和阶跃函数的比较\n",
    "sigmoid函数是一条平滑的曲线，输出随着输入发生连续性的变化。\n",
    "阶跃函数以0为界限，输出发生急剧性的变化。\n",
    "- sigmoid函数的平滑性对神经网络的学习有着重要的意义\n",
    "- 感知机中神经元之间流动的是0或1的二元信号，而神经网络中流动的是连续的实数信号。\n",
    "- 共同点是输入数值小时输出接近0，随着输入变大，输出值向1靠近。\n",
    "- 不管输入的信号有多小或者有多大，输出的值都在0到1之间\n",
    "\n",
    "### 非线性函数\n",
    "阶跃函数和sigmoid函数还有其他共同点，就是两者均为非线性函数。\n",
    "\n",
    "函数本来就是输入某个值后会返回一个值的转换器。向这个转换器输入某个值后，输出值是输入值的常数倍的函数称为线性函数，\n",
    "使用数学表达式为$h(x)\\,=\\,cx$,$c$为常数。\n",
    "因此线性函数是一条笔直的直。而非线性函数是指不像线性函数呈现出一条直线的函数。\n",
    "神经网络的激活函数必须使用非线性函数。换句话说，激活函数不能使用线性函数。\n",
    "因为使用线性函数的话，加深神经网络的层数就没有意义了。\n",
    "把线性函数 $h(x) = cx$ 作为激活 函数，把$y(x) = h(h(h(x)))$的运算对应3层神经网络A。这个运算会进行 $y(x) = c × c × c × x$ 的乘法运算，\n",
    "但是同样的处理可以由 $y(x) = ax$(注意， $a = c^3$)这一次乘法运算(即没有隐藏层的神经网络)来表示\n",
    "为了发挥叠加层的优势，激活函数必须使用非线性函数。\n",
    "\n",
    "### ReLU函数\n",
    "ReLU(Rectified Linear Unit)函数\n",
    "ReLU函数在输入大于0时直接输出该值；在输入小于等于0时，输出0\n",
    "ReLU函数可以表达为\n",
    "$$\n",
    "h(x)=\\begin{cases}\n",
    "\t\tx \\,（x  \\, \\leq\\  0 ）\\\\\n",
    "\t\t\\\\\n",
    "\t\t0  \\, （x \\, > \\,0 ）\n",
    "\\end{cases}\n",
    "$$\n",
    "ReLU函数的实现"
   ],
   "metadata": {
    "collapsed": false,
    "pycharm": {
     "name": "#%% md\n"
    }
   }
  },
  {
   "cell_type": "code",
   "execution_count": 6,
   "outputs": [
    {
     "data": {
      "text/plain": "<Figure size 432x288 with 1 Axes>",
      "image/png": "[encoded data removed]"
     },
     "metadata": {
      "needs_background": "light"
     },
     "output_type": "display_data"
    }
   ],
   "source": [
    "def relu(x):\n",
    "    return np.maximum(0,x)\n",
    "x = np.arange(-5.0, 5.0, 0.1)\n",
    "y = relu(x)\n",
    "plt.xlabel(\"x\")\n",
    "plt.ylabel(\"y\")\n",
    "plt.plot(x, y, label=\"ReLU\")\n",
    "plt.title(\"ReLU\")\n",
    "plt.ylim(-0.2, 1.2)\n",
    "plt.xlim(-6, 4)\n",
    "plt.legend()\n",
    "plt.show()"
   ],
   "metadata": {
    "collapsed": false,
    "pycharm": {
     "name": "#%%\n"
    }
   }
  }
 ],
 "metadata": {
  "kernelspec": {
   "display_name": "Python 3",
   "language": "python",
   "name": "python3"
  },
  "language_info": {
   "codemirror_mode": {
    "name": "ipython",
    "version": 2
   },
   "file_extension": ".py",
   "mimetype": "text/x-python",
   "name": "python",
   "nbconvert_exporter": "python",
   "pygments_lexer": "ipython2",
   "version": "2.7.6"
  }
 },
 "nbformat": 4,
 "nbformat_minor": 0
}