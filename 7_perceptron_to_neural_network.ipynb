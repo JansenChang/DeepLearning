{
 "cells": [
  {
   "cell_type": "markdown",
   "source": [
    "# 神经网络\n",
    "设定确定合适的输入和权重，目前还是由人工进行的。\n",
    "神经网络一个重要的性质，是可以自动从数据中学习到合适的权重参数。\n",
    "## 从感知机到神经网络\n",
    "把最左边的一列称为输入层，最右边的一列称为输出层。中间的一列称为中间层。\n",
    "中间层有时候也称为**隐藏层**。\n",
    "## 复习感知机\n",
    "感知机接收$x_1$和$x_2$两个输入信号，输出$y$。如果用数学式来表示\n",
    "$$\n",
    "y=\\begin{cases}\n",
    "\t\t0 \\,（$b$+$w_1x_1$+$w_2x_2$  \\, \\leq\\  0 ）\\\\\n",
    "\t\t\\\\\n",
    "\t\t1  \\, （$b$+$w_1x_1$+$w_2x_2$ \\, > \\,0 ）\n",
    "\\end{cases}\n",
    "$$\n",
    "$b$是被称为偏置的参数，用于控制神经元被激活的容易程度；而$w_1$和$w_2$是表示各个信号的权重的参数，用于控制信号各个的重要性。\n",
    "\n",
    "用一个函数来表示分情况的动作（超过0则输出1，否则输出0） 将式子改写成以下\n",
    "$$\n",
    "y\\,=\\,h(\\,b+w_1x_1\\,+\\,w_2x_2)\n",
    "$$\n",
    "\n",
    "$$\n",
    "h(x)=\\begin{cases}\n",
    "\t\t0 \\,（x  \\, \\leq\\  0 ）\\\\\n",
    "\t\t\\\\\n",
    "\t\t1  \\, （x \\, > \\,0 ）\n",
    "\\end{cases}\n",
    "$$"
   ],
   "metadata": {
    "collapsed": false,
    "pycharm": {
     "name": "#%% md\n"
    }
   }
  },
  {
   "cell_type": "markdown",
   "source": [
    "### 激活函数\n",
    "$h(x)$函数会将输入信号的总和转换为输出信号，这种函数一般称为**激活函数**（activation function）。\n",
    "激活函数的作用在于决定如何来激活输入信号的总和。\n",
    "进一步改写，先计算输入信号的加权总和，然后用激活函数转换总和。\n",
    "$$a=b+w_1x_1+w_2x_2$$\n",
    "$$y=h(a)$$\n",
    "先计算加权输入信号和偏置的总和，记为$a$。然后用$h()$函数将$a$转换为输出$y$。\n",
    "\n",
    "激活函数是连接感知机和神经网络的桥梁。\n",
    "``\n",
    "感知机，并没有严格统一所指的算法。\n",
    "\"朴素感知机\"是指单层网络，指的是激活函数使用了阶跃函数的模型。\n",
    "\"多层感知机\"是指神经网络，即使用sigmoid函数等平滑的激活函数的多层网络。\n",
    "``"
   ],
   "metadata": {
    "collapsed": false,
    "pycharm": {
     "name": "#%% md\n"
    }
   }
  }
 ],
 "metadata": {
  "kernelspec": {
   "display_name": "Python 3",
   "language": "python",
   "name": "python3"
  },
  "language_info": {
   "codemirror_mode": {
    "name": "ipython",
    "version": 2
   },
   "file_extension": ".py",
   "mimetype": "text/x-python",
   "name": "python",
   "nbconvert_exporter": "python",
   "pygments_lexer": "ipython2",
   "version": "2.7.6"
  }
 },
 "nbformat": 4,
 "nbformat_minor": 0
}