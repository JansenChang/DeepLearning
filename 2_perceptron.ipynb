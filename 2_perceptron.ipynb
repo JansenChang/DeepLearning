{
 "cells": [
  {
   "cell_type": "markdown",
   "source": [
    "##  感知机\n",
    "\n",
    "    感知机是神经网络的起源算法。\n",
    "### 感知机是什么\n",
    "\n",
    "    感知机接收多个输入信号，输出一个信号，像电流流过导线，向前方输送信息，与实际电流不同的是，感知机信号只有\"流/不流\"（1/0）两种取值。\n",
    "    0对应不传递信号，1对应传递信号\n",
    "------------\n",
    "### 感知机的例子\n",
    "$x_1$,$x_2$ 是输入信号,$y$是输出信号，$w_1$,$w_2$是权重（$w$是weight的首字母）\n",
    "○为**神经元**或者**节点**。输入信号被送往神经元时，会被分别乘以固定的权重（$x_1w_1$,$x_2w_2$）\n",
    "神经元计算传送过来的信号总和，只有超过某个界限值，才会输出1。这也成为**神经元被激活**。这里将这个界限值成为**阈值**。用符号$\\theta$表示。\n",
    "使用数学公式表示如下：\n"
   ],
   "metadata": {
    "collapsed": false,
    "pycharm": {
     "name": "#%% md\n"
    }
   }
  },
  {
   "cell_type": "markdown",
   "source": [],
   "metadata": {
    "collapsed": false,
    "pycharm": {
     "name": "#%% md\n"
    }
   }
  }
 ],
 "metadata": {
  "kernelspec": {
   "display_name": "Python 3",
   "language": "python",
   "name": "python3"
  },
  "language_info": {
   "codemirror_mode": {
    "name": "ipython",
    "version": 2
   },
   "file_extension": ".py",
   "mimetype": "text/x-python",
   "name": "python",
   "nbconvert_exporter": "python",
   "pygments_lexer": "ipython2",
   "version": "2.7.6"
  }
 },
 "nbformat": 4,
 "nbformat_minor": 0
}